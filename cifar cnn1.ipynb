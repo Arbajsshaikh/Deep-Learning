{
 "cells": [
  {
   "cell_type": "code",
   "execution_count": null,
   "id": "fe07f255",
   "metadata": {},
   "outputs": [],
   "source": [
    "\n",
    "import tensorflow as tf\n",
    "from tensorflow import keras\n",
    "(X_train,y_train),(X_test,y_test)=tf.keras.datasets.cifar10.load_data()\n",
    "import matplotlib.pyplot as plt\n",
    "\n",
    "plt.figure(figsize=(1,1))\n",
    "plt.imshow(X_train[1])\n",
    "X_train1=X_train/255\n",
    "X_test1=X_test/255\n",
    "X_train1.shape\n",
    "X_tr=X_train1.reshape(50000,32*32*3)\n",
    "X_te=X_test1.reshape(-1,32*32*3)\n",
    "from tensorflow.keras import Sequential\n",
    "from tensorflow.keras import layers\n",
    "cnn=Sequential([\n",
    "    keras.layers.Conv2D(filters=500,kernel_size=(3,3),input_shape=(32,32,3),activation='relu'),\n",
    "    keras.layers.MaxPooling2D((2,2)),\n",
    "    keras.layers.Conv2D(filters=300,kernel_size=(3,3),activation='relu'),\n",
    "    layers.MaxPooling2D((2,2)),\n",
    "    keras.layers.Conv2D(filters=100,kernel_size=(2,2),activation='relu'),\n",
    "    layers.MaxPooling2D((2,2)),\n",
    "    layers.Flatten(),\n",
    "    keras.layers.Dense(100,activation='relu'),\n",
    "    layers.Dropout(0.2),\n",
    "    keras.layers.Dense(50,activation='relu'),\n",
    "    keras.layers.Dropout(0.4),\n",
    "    keras.layers.Dense(10,activation='softmax')\n",
    "])\n",
    "cnn.compile(optimizer='adam',\n",
    "           loss='sparse_categorical_crossentropy',\n",
    "           metrics=['accuracy'])\n",
    "\n",
    "cnn.fit(X_train1,y_train,epochs=1)\n"
   ]
  },
  {
   "cell_type": "code",
   "execution_count": null,
   "id": "dbe55da5",
   "metadata": {},
   "outputs": [],
   "source": []
  }
 ],
 "metadata": {
  "kernelspec": {
   "display_name": "Python 3 (ipykernel)",
   "language": "python",
   "name": "python3"
  },
  "language_info": {
   "codemirror_mode": {
    "name": "ipython",
    "version": 3
   },
   "file_extension": ".py",
   "mimetype": "text/x-python",
   "name": "python",
   "nbconvert_exporter": "python",
   "pygments_lexer": "ipython3",
   "version": "3.9.12"
  }
 },
 "nbformat": 4,
 "nbformat_minor": 5
}
